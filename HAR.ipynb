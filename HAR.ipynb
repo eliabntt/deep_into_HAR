{
  "nbformat": 4,
  "nbformat_minor": 0,
  "metadata": {
    "colab": {
      "name": "HAR.ipynb",
      "version": "0.3.2",
      "provenance": [],
      "collapsed_sections": []
    },
    "language_info": {
      "codemirror_mode": {
        "name": "ipython",
        "version": 3
      },
      "file_extension": ".py",
      "mimetype": "text/x-python",
      "name": "python",
      "nbconvert_exporter": "python",
      "pygments_lexer": "ipython3",
      "version": "3.7.3"
    },
    "kernelspec": {
      "name": "python3",
      "display_name": "Python 3"
    },
    "accelerator": "GPU"
  },
  "cells": [
    {
      "cell_type": "markdown",
      "metadata": {
        "id": "qY_Pl0khOtkt",
        "colab_type": "text"
      },
      "source": [
        "# Human Activity Recognition using Inertial sensors and Neural Networks\n",
        "\n",
        "**Elia Bonetto, Filippo Rigotto.**\n",
        "\n",
        "Department of Information Engineering, University of Padova, Italy.\n",
        "\n",
        "Human Data Analytics, a.y. 2018/2019\n",
        "\n",
        "## Part 2 - DL models"
      ]
    },
    {
      "cell_type": "markdown",
      "metadata": {
        "id": "9Vo-eQWFE-aB",
        "colab_type": "text"
      },
      "source": [
        "TEST TO DO:\n",
        "- augmented\n",
        "- 70/30\n",
        "- not-normalized\n",
        "\n",
        "TO DO:\n",
        "- prec/recall/f1 per class basis\n",
        "- conf matrix\n",
        "- save model\n",
        "- test various loss functions/lr/decay\n",
        "\n",
        "NETWORKS:\n",
        "\n",
        "IN DOING:\n",
        "- first CNN\n",
        "- LSTM\n",
        "- RNN\n",
        "\n",
        "TO DO:\n",
        "- CNN + LSTM\n",
        "- RF???\n",
        "- AE\n",
        "- Known well network\n",
        "\n",
        "\n",
        "missing something? @philip check pls"
      ]
    },
    {
      "cell_type": "code",
      "metadata": {
        "id": "_swJwzcxFYUP",
        "colab_type": "code",
        "colab": {}
      },
      "source": [
        "!nvidia-smi"
      ],
      "execution_count": 0,
      "outputs": []
    },
    {
      "cell_type": "code",
      "metadata": {
        "id": "TeKKPUPPF1PO",
        "colab_type": "code",
        "colab": {}
      },
      "source": [
        "from IPython.display import Image, clear_output\n",
        "import os\n",
        "from google.colab import drive\n",
        "drive.mount('/content/drive/')\n",
        "clear_output()\n",
        "!ls /content/drive/My\\ Drive/hda-project\n",
        "os.chdir(\"/content/drive/My Drive/hda-project\")"
      ],
      "execution_count": 0,
      "outputs": []
    },
    {
      "cell_type": "code",
      "metadata": {
        "id": "f_j884TpGNrb",
        "colab_type": "code",
        "colab": {}
      },
      "source": [
        "import json\n",
        "#import logging\n",
        "from datetime import datetime\n",
        "import pytz\n",
        "\n",
        "import h5py\n",
        "import numpy as np\n",
        "import scipy as sp\n",
        "import scipy.io\n",
        "\n",
        "import pandas as pd\n",
        "pd.set_option('display.precision',3)\n",
        "pd.set_option('display.float_format', '{:0.3f}'.format)\n",
        "\n",
        "import matplotlib as mpl\n",
        "import matplotlib.pyplot as plt\n",
        "%matplotlib inline\n",
        "mpl.rcParams['figure.figsize'] = (10,6)\n",
        "mpl.rcParams['axes.grid'] = True\n",
        "\n",
        "import tensorflow as tf\n",
        "from tensorflow.keras import layers\n",
        "from tensorflow.keras.layers import Input, Dense, Activation, BatchNormalization, Flatten, Conv1D, MaxPooling1D, Dropout\n",
        "#from tensorflow.keras.layers import Conv2D, ZeroPadding2D, AveragePooling2D, MaxPooling2D, Dropout, GlobalMaxPooling2D, GlobalAveragePooling2D\n",
        "from tensorflow.keras.models import Model\n",
        "from tensorflow.keras.utils import to_categorical\n",
        "#logging.getLogger('tensorflow').disabled = True\n",
        "tf.keras.backend.set_image_data_format('channels_last')"
      ],
      "execution_count": 0,
      "outputs": []
    },
    {
      "cell_type": "markdown",
      "metadata": {
        "id": "rxB85blVHppF",
        "colab_type": "text"
      },
      "source": [
        "## Data loading\n",
        "\n",
        "Start from previously preprocessed data, altrady splitted in train and test parts."
      ]
    },
    {
      "cell_type": "code",
      "metadata": {
        "id": "xD72ldeCpHVi",
        "colab_type": "code",
        "colab": {}
      },
      "source": [
        "map_decode = {\n",
        "    0: 'running',\n",
        "    1: 'walking',\n",
        "    2: 'jumping',\n",
        "    3: 'standing',\n",
        "    4: 'sitting',\n",
        "    5: 'lying',\n",
        "    6: 'falling'\n",
        "}\n",
        "num_classes = len(map_decode)"
      ],
      "execution_count": 0,
      "outputs": []
    },
    {
      "cell_type": "code",
      "metadata": {
        "id": "wCJYO52hC3cS",
        "colab_type": "code",
        "colab": {}
      },
      "source": [
        "with h5py.File('dataset/ARS-train-test-body-framed-norm.h5','r') as h5f:\n",
        "    X_train = h5f['X_train'][:] # IMU data w.r.t body frame\n",
        "    X_test  = h5f['X_test'][:]  # activities (labels)\n",
        "    Y_train = h5f['Y_train'][:]\n",
        "    Y_test  = h5f['Y_test'][:]\n",
        "\n",
        "num_data = len(X_train)\n",
        "print(\"X_train shape: \" + str(X_train.shape))\n",
        "print(\"Y_train shape: \" + str(Y_train.shape))\n",
        "print(\"X_test shape:  \" + str(X_test.shape))\n",
        "print(\"Y_test shape:  \" + str(Y_test.shape))\n",
        "\n",
        "# categorical structures are needed for the loss function to work properly\n",
        "Y_train = to_categorical(Y_train, num_classes=num_classes, dtype=np.uint8)\n",
        "Y_test  = to_categorical(Y_test,  num_classes=num_classes, dtype=np.uint8)"
      ],
      "execution_count": 0,
      "outputs": []
    },
    {
      "cell_type": "markdown",
      "metadata": {
        "id": "Of3HRFQtHtoO",
        "colab_type": "text"
      },
      "source": [
        "## Models\n",
        "\n",
        "Here we layout the Keras models of the analyzed architectures."
      ]
    },
    {
      "cell_type": "code",
      "metadata": {
        "id": "KJxIvGs7GucF",
        "colab_type": "code",
        "colab": {}
      },
      "source": [
        "def conv1d(input_shape, num_classes):\n",
        "    # Define the input placeholder as a tensor with shape input_shape. Think of this as your input image!\n",
        "    X_input = Input(shape=input_shape)\n",
        "\n",
        "    # Zero-Padding: pads the border of X_input with zeroes\n",
        "    # X = ZeroPadding2D((3, 3))(X_input)\n",
        "\n",
        "    # CONV -> Batch Normalization -> ReLU Block applied to X\n",
        "    X = Conv1D(32, 5, name='conv0')(X_input)\n",
        "    X = BatchNormalization(axis=1, name='bn0')(X)\n",
        "    X = Activation('relu')(X)\n",
        "\n",
        "    # MAXPOOL\n",
        "    X = MaxPooling1D(2, name='max_pool0')(X)\n",
        "\n",
        "    # FLATTEN X (means convert it to a vector) + FULLYCONNECTED\n",
        "    X = Flatten()(X)\n",
        "    #X = Dense(128, activation='relu', name='fc')(X)\n",
        "    X = Dense(num_classes, activation='softmax', name='softmax')(X)\n",
        "\n",
        "    model = Model(inputs = X_input, outputs = X, name='Conv1_Model')\n",
        "    return model\n",
        "\n",
        "def conv1d_2layers(input_shape, num_classes):\n",
        "    X_input = Input(input_shape)\n",
        "    \n",
        "    \"\"\"\n",
        "    if I'm using channel_last input_shape is something like\n",
        "    [12000, 128, 6, 1] where 12000 is the nr of samples\n",
        "    and X_input shape is like\n",
        "    [128, 6, 1]\n",
        "    \"\"\"\n",
        "\n",
        "    X = Conv1D(30, 5, name='conv0')(X_input)\n",
        "    # in channel_last normalization is done on axis=1\n",
        "    # which is the time domain\n",
        "    X = BatchNormalization(axis = 1, name='bn0')(X)\n",
        "    X = Activation('relu')(X)\n",
        "    \n",
        "    X = Dropout(0.3)(X)\n",
        "    X = MaxPooling1D(2, name='max_pool0')(X)\n",
        "    \n",
        "    X = Conv1D(40, 5, name='conv1')(X)\n",
        "    X = BatchNormalization(axis = 1, name='bn1')(X)\n",
        "    X = Activation('relu')(X)\n",
        "    \n",
        "    X = Dropout(0.3)(X)\n",
        "    X = MaxPooling1D(2, name='max_pool1')(X)\n",
        "    \n",
        "    X = Flatten()(X)\n",
        "    X = Dense(150, activation=\"relu\", name='fc')(X)\n",
        "    X = Dropout(0.2)(X)\n",
        "    X = Dense(num_classes, activation='softmax', name='softmax')(X)\n",
        "\n",
        "    model = Model(inputs=X_input, outputs=X, name='Conv1_2layers_Model')\n",
        "    return model"
      ],
      "execution_count": 0,
      "outputs": []
    },
    {
      "cell_type": "markdown",
      "metadata": {
        "id": "_Lxhfx_7Hw4u",
        "colab_type": "text"
      },
      "source": [
        "## Training and evaluation\n",
        "\n",
        "The `run_model` function takes care of bootstrap, training and evaluation processes for a given model and configuration."
      ]
    },
    {
      "cell_type": "code",
      "metadata": {
        "id": "B4im4NdAR-Wf",
        "colab_type": "code",
        "colab": {}
      },
      "source": [
        "def run_model(model, config):\n",
        "    \"\"\"Generic method to build a model, train and evaluate performances.\"\"\"\n",
        "\n",
        "    out_folder = os.path.join('output', datetime.now(pytz.timezone('Europe/Rome')).strftime('%Y%m%d-%H%M%S')+'_'+model.name)\n",
        "    if not os.path.exists(out_folder):\n",
        "        os.mkdir(out_folder)\n",
        "    \n",
        "    # print and save model summary\n",
        "    print('Summary')\n",
        "    model.summary()\n",
        "    with open(os.path.join(out_folder, 'summary.txt'),'w') as sfile:\n",
        "        model.summary(print_fn=lambda x: sfile.write(x+'\\n'))\n",
        "\n",
        "    # save config\n",
        "    with open(os.path.join(out_folder, 'config.json'),'w') as cfile:\n",
        "        json.dump(config, cfile, indent=2)\n",
        "\n",
        "    # compile model\n",
        "    model.compile(optimizer=config['optimizer'], loss=config['loss'], metrics=['accuracy'])\n",
        "\n",
        "    # train model, save final state and history\n",
        "    print('\\nTraining')\n",
        "    history = model.fit(x=X_train, y=Y_train, epochs=config['epochs'], batch_size=config['batch_size'], validation_data=(X_test,Y_test))\n",
        "    model.save(os.path.join(out_folder, 'model.h5'))\n",
        "    with open(os.path.join(out_folder, 'history.json'),'w') as hfile:\n",
        "        hpd = pd.DataFrame(history.history)\n",
        "        json.dump(json.loads(hpd.to_json()), hfile, indent=2)\n",
        "\n",
        "        #json.dump(history.history, hfile, indent=2)\n",
        "        # native json module can't handle float32 objects\n",
        "        # pandas can and is used as a preprocessor to json module\n",
        "\n",
        "    \n",
        "    # evaluate model, save results\n",
        "    print('\\nEvaluation')\n",
        "    preds = model.evaluate(x=X_test, y=Y_test)\n",
        "    print (\"Loss = {}\".format(preds[0]))\n",
        "    print (\"Test Accuracy = {} = {:.2f}%\".format(preds[1],preds[1]*100))\n",
        "    with open(os.path.join(out_folder, 'evaluation.json'),'w') as efile:\n",
        "        json.dump({'loss':float(preds[0]), 'accuracy':float(preds[1])}, efile, indent=2)\n",
        "\n",
        "    # plot and save loss and accuracy\n",
        "    print('\\nLoss and accuracy plots')\n",
        "    plt.figure()\n",
        "    plt.plot(history.history['loss'], label='Training')\n",
        "    plt.plot(history.history['val_loss'], label='Validation')\n",
        "    plt.legend()\n",
        "    plt.xlabel('Epoch')\n",
        "    plt.ylabel('Loss')\n",
        "    plt.tight_layout()\n",
        "    fname = os.path.join(out_folder, 'plot-loss')\n",
        "    plt.savefig(fname+'.png')\n",
        "    plt.savefig(fname+'.pdf', format='pdf')\n",
        "\n",
        "    plt.figure()\n",
        "    plt.plot(history.history['acc'], label='Training')\n",
        "    plt.plot(history.history['val_acc'], label='Validation')\n",
        "    plt.legend()\n",
        "    plt.xlabel('Epoch')\n",
        "    plt.ylabel('Accuracy')\n",
        "    plt.tight_layout()\n",
        "    fname = os.path.join(out_folder, 'plot-accuracy')\n",
        "    plt.savefig(fname+'.png')\n",
        "    plt.savefig(fname+'.pdf', format='pdf')"
      ],
      "execution_count": 0,
      "outputs": []
    },
    {
      "cell_type": "markdown",
      "metadata": {
        "id": "IOuzqoxhheZu",
        "colab_type": "text"
      },
      "source": [
        "## Tests\n",
        "\n",
        "Here models are trained according to config files on the dataset split."
      ]
    },
    {
      "cell_type": "code",
      "metadata": {
        "id": "TvKaBl4gUvIy",
        "colab_type": "code",
        "colab": {}
      },
      "source": [
        "config = {\n",
        "    'optimizer': 'adam',\n",
        "    'loss': 'categorical_crossentropy',\n",
        "    'epochs': 1,\n",
        "    'batch_size': 32\n",
        "}\n",
        "\n",
        "input_shape = [X_train.shape[1], X_train.shape[2]] # valid for 1D models only\n",
        "model = conv1d(input_shape, num_classes)\n",
        "run_model(model, config)"
      ],
      "execution_count": 0,
      "outputs": []
    },
    {
      "cell_type": "markdown",
      "metadata": {
        "id": "BX4VjdNYYTtk",
        "colab_type": "text"
      },
      "source": [
        "# LSTM\n",
        "\n",
        "Y are already one-hot"
      ]
    },
    {
      "cell_type": "code",
      "metadata": {
        "id": "3E_JIdOMYEyj",
        "colab_type": "code",
        "colab": {}
      },
      "source": [
        "features = 32 #number of hidden layer's features\n",
        "classes = 6 # number of final classes\n",
        "\n",
        "lr = 0.0025\n",
        "lambda_l = 0.0015\n",
        "batch = 1500\n",
        "n_iters = 300\n",
        "tot_iters = Y_train.shape[0] * n_iters\n",
        "disp_iter = 1000\n",
        "\n",
        "\n",
        "w = {\n",
        "    'h' : tf.Variable(tf.random_normal([X_train.shape[2], features])),\n",
        "    'o' : tf.Variable(tf.random_normal([features, Y_train.shape[1]], mean=1.0))\n",
        "}\n",
        "b = {\n",
        "    'h' : tf.Variable(tf.random_normal([features])),\n",
        "    'o' : tf.Variable(tf.random_normal([Y_train.shape[1]]))\n",
        "}"
      ],
      "execution_count": 0,
      "outputs": []
    },
    {
      "cell_type": "code",
      "metadata": {
        "id": "uvv75Z2iY-q8",
        "colab_type": "code",
        "colab": {}
      },
      "source": [
        "def LSTM(X, w, b):\n",
        "    X = tf.transpose(X,[1,0,2]) #(batch_size, steps, input)\n",
        "    X = tf.reshape(X, [-1, X.shape[2]])  #(steps*batch, n_initial_\"features\")\n",
        "\n",
        "    X = tf.nn.relu(tf.matmul(X, w['h']) + b['h'])\n",
        "    X = tf.split(X, X_train.shape[1])\n",
        "    \n",
        "    #define LSTM\n",
        "    l_1 = tf.contrib.rnn.BasicLSTMCell(features, forget_bias=1.0, state_is_tuple=True)\n",
        "    l_2 = tf.contrib.rnn.BasicLSTMCell(features, forget_bias=1.0, state_is_tuple=True)    \n",
        "    lstm = tf.contrib.rnn.MultiRNNCell([l_1,l_2], state_is_tuple=True)    \n",
        "    \n",
        "    #output\n",
        "    out, state = tf.contrib.rnn.static_rnn(lstm, X, dtype=tf.float32)\n",
        "    \n",
        "    return tf.matmul(out[-1], w['o'])+b['o']"
      ],
      "execution_count": 0,
      "outputs": []
    },
    {
      "cell_type": "code",
      "metadata": {
        "id": "fNqoOJlQZAjg",
        "colab_type": "code",
        "colab": {}
      },
      "source": [
        "X_train_2 = X_train.astype(np.float32)\n",
        "Y_train_2 = Y_train.astype(np.float32)\n",
        "X_test_2 = X_test.astype(np.float32)\n",
        "Y_test_2 = Y_test.astype(np.float32)\n",
        "\n",
        "tmp = tf.data.Dataset.from_tensor_slices((X_train_2, Y_train_2)).repeat().batch(300)\n",
        "\n",
        "iter = tmp.make_one_shot_iterator()\n",
        "x, y = iter.get_next()\n",
        "\n",
        "prediction = LSTM(x, w, b)\n",
        "l2_norm = lambda_l * sum(tf.nn.l2_loss(tf_var) for tf_var in tf.trainable_variables())\n",
        "\n",
        "softmax_cost = tf.reduce_mean(tf.nn.softmax_cross_entropy_with_logits(labels=y, logits=prediction))+l2_norm\n",
        "adam = tf.train.AdamOptimizer(learning_rate=lr).minimize(softmax_cost)\n",
        "\n",
        "accuracy = tf.reduce_mean(tf.cast(tf.equal(tf.argmax(prediction,1), tf.argmax(y,1)),tf.float32))\n",
        "        "
      ],
      "execution_count": 0,
      "outputs": []
    },
    {
      "cell_type": "code",
      "metadata": {
        "id": "rpiaUo-VzGIu",
        "colab_type": "code",
        "colab": {}
      },
      "source": [
        "\n",
        "test = {'loss':[], 'acc':[]}\n",
        "train = {'loss':[], 'acc':[]}\n",
        "with tf.Session() as sess:\n",
        "    sess.run(tf.global_variables_initializer())\n",
        "    for i in range(1000): #epochs\n",
        "        _, l, a = sess.run([adam, softmax_cost, accuracy])\n",
        "        train['loss'].append(l)\n",
        "        train['acc'].append(a)\n",
        "        if i%1 == 0:\n",
        "            l,a = sess.run([softmax_cost, accuracy])\n",
        "            test['loss'].append(l)\n",
        "            test['acc'].append(a)\n",
        "            #print(\"PERFORMANCE ON TEST SET: \" + \\\n",
        "            #      \"Batch Loss = {}\".format(l) + \\\n",
        "            #      \", Accuracy = {}\".format(a))\n"
      ],
      "execution_count": 0,
      "outputs": []
    },
    {
      "cell_type": "code",
      "metadata": {
        "id": "gjMOm_VJBx4a",
        "colab_type": "code",
        "colab": {}
      },
      "source": [
        "print(max(test['acc']))"
      ],
      "execution_count": 0,
      "outputs": []
    },
    {
      "cell_type": "code",
      "metadata": {
        "id": "xPqPsb4v-gee",
        "colab_type": "code",
        "colab": {}
      },
      "source": [
        "# as reference\n",
        "from keras import backend as K\n",
        "def f1(y_true, y_pred):\n",
        "    def recall(y_true, y_pred):\n",
        "        \"\"\"Recall metric.\n",
        "\n",
        "        Only computes a batch-wise average of recall.\n",
        "\n",
        "        Computes the recall, a metric for multi-label classification of\n",
        "        how many relevant items are selected.\n",
        "        \"\"\"\n",
        "        true_positives = K.sum(K.round(K.clip(y_true * y_pred, 0, 1)))\n",
        "        possible_positives = K.sum(K.round(K.clip(y_true, 0, 1)))\n",
        "        recall = true_positives / (possible_positives + K.epsilon())\n",
        "        return recall\n",
        "\n",
        "    def precision(y_true, y_pred):\n",
        "        \"\"\"Precision metric.\n",
        "\n",
        "        Only computes a batch-wise average of precision.\n",
        "\n",
        "        Computes the precision, a metric for multi-label classification of\n",
        "        how many selected items are relevant.\n",
        "        \"\"\"\n",
        "        true_positives = K.sum(K.round(K.clip(y_true * y_pred, 0, 1)))\n",
        "        predicted_positives = K.sum(K.round(K.clip(y_pred, 0, 1)))\n",
        "        precision = true_positives / (predicted_positives + K.epsilon())\n",
        "        return precision\n",
        "    precision = precision(y_true, y_pred)\n",
        "    recall = recall(y_true, y_pred)\n",
        "    return 2*((precision*recall)/(precision+recall+K.epsilon()))\n"
      ],
      "execution_count": 0,
      "outputs": []
    },
    {
      "cell_type": "code",
      "metadata": {
        "id": "PZzYXelNhyDI",
        "colab_type": "code",
        "colab": {}
      },
      "source": [
        "##KERAS VERSION - to be tuned\n",
        "\n",
        "from keras.layers import LSTM, Dense\n",
        "from keras.models import Sequential\n",
        "\n",
        "model = Sequential()\n",
        "#model.add(Activation('relu'))\n",
        "model.add(LSTM(features, return_sequences=True, stateful=False, batch_input_shape=(None,X_train.shape[1],X_train.shape[2])))\n",
        "model.add(LSTM(32, return_sequences=False, stateful=False))\n",
        "#model.add(LSTM(32, stateful=False))\n",
        "model.add(Dense(7, activation='softmax'))\n",
        "\n",
        "model.compile(loss='categorical_crossentropy', optimizer='adam', metrics=['accuracy',f1])\n",
        "\n",
        "model.fit(X_train, Y_train, batch_size = 300, epochs=100, shuffle=False, validation_data=(X_test, Y_test))\n",
        "\n",
        " # evaluate model, save results\n",
        "print('\\nEvaluation')\n",
        "preds = model.evaluate(x=X_test, y=Y_test)\n",
        "print (\"Loss = {}\".format(preds[0]))\n",
        "print (\"Test Accuracy = {} = {:.2f}%\".format(preds[1],preds[1]*100))"
      ],
      "execution_count": 0,
      "outputs": []
    },
    {
      "cell_type": "markdown",
      "metadata": {
        "id": "wLlWsHL14Txi",
        "colab_type": "text"
      },
      "source": [
        "RNN"
      ]
    },
    {
      "cell_type": "code",
      "metadata": {
        "id": "XqeVEatPqH8Z",
        "colab_type": "code",
        "colab": {}
      },
      "source": [
        "from keras.models import Sequential\n",
        "from keras import layers\n",
        "from keras.optimizers import RMSprop\n",
        "model = Sequential()\n",
        "model.add(layers.GRU(32, input_shape=(None, X_train.shape[-1])))\n",
        "model.add(layers.Dense(7))\n",
        "\n",
        "model.compile(optimizer='adam', loss='mae', metrics=['accuracy',f1])\n"
      ],
      "execution_count": 0,
      "outputs": []
    },
    {
      "cell_type": "code",
      "metadata": {
        "id": "CFaO9z_Y4aEC",
        "colab_type": "code",
        "colab": {}
      },
      "source": [
        "\n",
        "history = model.fit(x=X_train,\n",
        "                    y=Y_train,\n",
        "                    batch_size=200,\n",
        "                    epochs=100,\n",
        "                    verbose=1,\n",
        "                    callbacks=None,\n",
        "                    #validation_split=0.2,\n",
        "                    validation_data = (X_test, Y_test),\n",
        "                    #validation_data=None,\n",
        "                    shuffle=False,\n",
        "                    #class_weight=None, sample_weight=None,initial_epoch=0, steps_per_epoch=None, validation_steps=None\n",
        "                   )\n",
        "\n",
        " # evaluate model, save results\n",
        "print('\\nEvaluation')\n",
        "preds = model.evaluate(x=X_test, y=Y_test)\n",
        "print (\"Loss = {}\".format(preds[0]))\n",
        "print (\"Test Accuracy = {} = {:.2f}%\".format(preds[1],preds[1]*100))"
      ],
      "execution_count": 0,
      "outputs": []
    }
  ]
}
